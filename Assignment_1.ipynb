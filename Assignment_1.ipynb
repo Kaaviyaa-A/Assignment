{
  "nbformat": 4,
  "nbformat_minor": 0,
  "metadata": {
    "colab": {
      "name": "Assignment-1.ipynb",
      "provenance": [],
      "authorship_tag": "ABX9TyMnu/egp+HGhc33OzRv0NLc",
      "include_colab_link": true
    },
    "kernelspec": {
      "name": "python3",
      "display_name": "Python 3"
    },
    "language_info": {
      "name": "python"
    }
  },
  "cells": [
    {
      "cell_type": "markdown",
      "metadata": {
        "id": "view-in-github",
        "colab_type": "text"
      },
      "source": [
        "<a href=\"https://colab.research.google.com/github/Kaaviyaa-A/Assignment/blob/main/Assignment_1.ipynb\" target=\"_parent\"><img src=\"https://colab.research.google.com/assets/colab-badge.svg\" alt=\"Open In Colab\"/></a>"
      ]
    },
    {
      "cell_type": "code",
      "execution_count": 1,
      "metadata": {
        "colab": {
          "base_uri": "https://localhost:8080/"
        },
        "id": "Eqn55WMfJUTl",
        "outputId": "9b71f646-68f1-45e4-bb89-264bce389201"
      },
      "outputs": [
        {
          "output_type": "stream",
          "name": "stdout",
          "text": [
            "TensorFlow 1.x selected.\n",
            "1.15.2\n"
          ]
        }
      ],
      "source": [
        "# # change tensorflow version to version 1.x\n",
        "%tensorflow_version 1.x\n",
        "\n",
        "import tensorflow\n",
        "print(tensorflow.__version__)"
      ]
    },
    {
      "cell_type": "code",
      "source": [
        "import tensorflow as tf\n",
        "\n",
        "# define x\n",
        "x = tf.placeholder(dtype=tf.float32,shape=(2,3),name=\"x\")"
      ],
      "metadata": {
        "id": "85_keQ8SJb0g"
      },
      "execution_count": 2,
      "outputs": []
    },
    {
      "cell_type": "code",
      "source": [
        "# declared y\n",
        "# y is unknown(output)\n",
        "y = tf.Variable(tf.zeros([2, 3],dtype=tf.float32))"
      ],
      "metadata": {
        "id": "tbNi3Xf3Jb3n"
      },
      "execution_count": 3,
      "outputs": []
    },
    {
      "cell_type": "code",
      "source": [
        "# Equation -> (x + 1 / 2x^2 – 4)\n",
        "# Evaluation\n",
        "z=tf.subtract(tf.add(x,tf.math.multiply(tf.divide(1,2),tf.pow(x,2))),4)\n"
      ],
      "metadata": {
        "id": "-J8KgHajJb7B"
      },
      "execution_count": 4,
      "outputs": []
    },
    {
      "cell_type": "code",
      "source": [
        "learning_rate = 0.001\n",
        "# Mean squared error\n",
        "loss = tf.reduce_mean(tf.square(y-z))\n",
        "# Optimizer(Adam)\n",
        "train_op = tf.train.AdamOptimizer(learning_rate).minimize(loss)\n"
      ],
      "metadata": {
        "id": "4eRfFl-2Jb-j"
      },
      "execution_count": 5,
      "outputs": []
    },
    {
      "cell_type": "code",
      "source": [
        "#Create Object\n",
        "saver = tf.train.Saver()"
      ],
      "metadata": {
        "id": "5mAM2Tp_JnYA"
      },
      "execution_count": 6,
      "outputs": []
    },
    {
      "cell_type": "code",
      "source": [
        "init = tf.global_variables_initializer()     # An Op that initializes global variables in the graph.\n",
        "\n",
        "sess = tf.Session();                         # object encapsulates the environment in which Operation objects \n",
        "                                             # are executed, and Tensor objects are evaluated.\n",
        "sess.run(tf.global_variables_initializer())"
      ],
      "metadata": {
        "id": "uzDEqSx2Jncb"
      },
      "execution_count": 7,
      "outputs": []
    },
    {
      "cell_type": "code",
      "source": [
        "import numpy as np\n",
        "rand_array = np.random.rand(2,3)     # Random Array\n",
        "print(sess.run(z,feed_dict={x: rand_array}))\n"
      ],
      "metadata": {
        "colab": {
          "base_uri": "https://localhost:8080/"
        },
        "id": "R_F5b3zbJwOX",
        "outputId": "4686b4f0-3107-4af5-8c34-c64ffa9f8cde"
      },
      "execution_count": 8,
      "outputs": [
        {
          "output_type": "stream",
          "name": "stdout",
          "text": [
            "[[-3.9240339 -2.7297394 -2.6522446]\n",
            " [-2.9155002 -3.2535453 -3.6960154]]\n"
          ]
        }
      ]
    },
    {
      "cell_type": "code",
      "source": [
        "saver.save(sess, 'equation')     # save the model as equation"
      ],
      "metadata": {
        "colab": {
          "base_uri": "https://localhost:8080/",
          "height": 35
        },
        "id": "fSScGZ4cJwR_",
        "outputId": "ab00e829-de98-4320-af72-470824012c43"
      },
      "execution_count": 9,
      "outputs": [
        {
          "output_type": "execute_result",
          "data": {
            "application/vnd.google.colaboratory.intrinsic+json": {
              "type": "string"
            },
            "text/plain": [
              "'equation'"
            ]
          },
          "metadata": {},
          "execution_count": 9
        }
      ]
    },
    {
      "cell_type": "code",
      "source": [
        "# Restore\n",
        "sess = tf.Session()\n",
        "new_saver = tf.train.import_meta_graph('equation.meta')\n",
        "new_saver.restore(sess, tf.train.latest_checkpoint('./'))"
      ],
      "metadata": {
        "colab": {
          "base_uri": "https://localhost:8080/"
        },
        "id": "6nddmq9gJ4ac",
        "outputId": "4bac1f63-815d-4637-dcc0-e95afa323b15"
      },
      "execution_count": 10,
      "outputs": [
        {
          "output_type": "stream",
          "name": "stdout",
          "text": [
            "INFO:tensorflow:Restoring parameters from ./equation\n"
          ]
        }
      ]
    },
    {
      "cell_type": "code",
      "source": [
        "rand_array = np.random.rand(2,3)\n",
        "print(rand_array)\n",
        "print(sess.run(z,feed_dict={x: rand_array}))"
      ],
      "metadata": {
        "colab": {
          "base_uri": "https://localhost:8080/"
        },
        "id": "jg-6Rr2FJ4eh",
        "outputId": "043404f2-2fe0-41c1-985d-c6d22d72359b"
      },
      "execution_count": 11,
      "outputs": [
        {
          "output_type": "stream",
          "name": "stdout",
          "text": [
            "[[0.47426543 0.65500655 0.12342953]\n",
            " [0.40485462 0.40736972 0.58355032]]\n",
            "[[-3.4132707 -3.1304765 -3.868953 ]\n",
            " [-3.513192  -3.5096552 -3.2461843]]\n"
          ]
        }
      ]
    }
  ]
}