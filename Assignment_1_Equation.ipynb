{
  "nbformat": 4,
  "nbformat_minor": 0,
  "metadata": {
    "colab": {
      "name": "Assignment-1.Equation.ipynb",
      "provenance": [],
      "authorship_tag": "ABX9TyNkfARIih0j+su+TglJJNVX",
      "include_colab_link": true
    },
    "kernelspec": {
      "name": "python3",
      "display_name": "Python 3"
    },
    "language_info": {
      "name": "python"
    }
  },
  "cells": [
    {
      "cell_type": "markdown",
      "metadata": {
        "id": "view-in-github",
        "colab_type": "text"
      },
      "source": [
        "<a href=\"https://colab.research.google.com/github/Kaaviyaa-A/Assignment/blob/main/Assignment_1_Equation.ipynb\" target=\"_parent\"><img src=\"https://colab.research.google.com/assets/colab-badge.svg\" alt=\"Open In Colab\"/></a>"
      ]
    },
    {
      "cell_type": "code",
      "execution_count": 141,
      "metadata": {
        "colab": {
          "base_uri": "https://localhost:8080/"
        },
        "id": "8yme39ZdTGZu",
        "outputId": "1f2578e1-77dc-4e17-bc52-8ad499786ba7"
      },
      "outputs": [
        {
          "output_type": "stream",
          "name": "stdout",
          "text": [
            "1.15.2\n"
          ]
        }
      ],
      "source": [
        "# change tensorflow version to version 1.x\n",
        "%tensorflow_version 1.x\n",
        "\n",
        "import tensorflow\n",
        "print(tensorflow.__version__)"
      ]
    },
    {
      "cell_type": "code",
      "source": [
        "import tensorflow as tf\n",
        "\n",
        "# define x\n",
        "x = tf.placeholder(\"float\",shape=(2,3))\n"
      ],
      "metadata": {
        "id": "mQZHhts-XBth",
        "colab": {
          "base_uri": "https://localhost:8080/"
        },
        "outputId": "62368269-045a-4ee2-bde5-a53c455d20ef"
      },
      "execution_count": 161,
      "outputs": [
        {
          "output_type": "execute_result",
          "data": {
            "text/plain": [
              "<tf.Tensor 'Placeholder_1:0' shape=(2, 3) dtype=float32>"
            ]
          },
          "metadata": {},
          "execution_count": 161
        }
      ]
    },
    {
      "cell_type": "code",
      "source": [
        "# declared y\n",
        "# y is unknown\n",
        "y = tf.Variable(tf.zeros([2, 3]))"
      ],
      "metadata": {
        "id": "Uy1T-DArbuoq"
      },
      "execution_count": 152,
      "outputs": []
    },
    {
      "cell_type": "code",
      "source": [
        "z=tf.subtract(tf.add(x,tf.math.multiply(tf.divide(1,2),tf.pow(x,2))),4)"
      ],
      "metadata": {
        "id": "pDQe-8j2iiN6"
      },
      "execution_count": 153,
      "outputs": []
    },
    {
      "cell_type": "code",
      "source": [
        "init = tf.global_variables_initializer()\n",
        "sess = tf.Session();\n",
        "sess.run(init)"
      ],
      "metadata": {
        "id": "ztgz4VBdDE3q"
      },
      "execution_count": 154,
      "outputs": []
    },
    {
      "cell_type": "code",
      "source": [
        "# Save\n",
        "saver = tf.train.Saver()"
      ],
      "metadata": {
        "id": "H-iURW-IijTW"
      },
      "execution_count": 155,
      "outputs": []
    },
    {
      "cell_type": "code",
      "source": [
        "print(sess.run(z))"
      ],
      "metadata": {
        "id": "iUXZ8C2RDdAi"
      },
      "execution_count": null,
      "outputs": []
    },
    {
      "cell_type": "code",
      "source": [
        "saver.save(sess, 'equation',global_step=1000)"
      ],
      "metadata": {
        "id": "OV2LbxBxialv",
        "colab": {
          "base_uri": "https://localhost:8080/",
          "height": 35
        },
        "outputId": "35dca064-805b-4de5-9494-84c70fea3893"
      },
      "execution_count": 166,
      "outputs": [
        {
          "output_type": "execute_result",
          "data": {
            "application/vnd.google.colaboratory.intrinsic+json": {
              "type": "string"
            },
            "text/plain": [
              "'equation-1000'"
            ]
          },
          "metadata": {},
          "execution_count": 166
        }
      ]
    },
    {
      "cell_type": "code",
      "source": [
        "# Restore\n",
        "sess=tf.Session()    \n",
        "saver = tf.train.import_meta_graph('equation-1000.meta')\n",
        "saver.restore(sess,tf.train.latest_checkpoint('./'))\n",
        "\n",
        "print(sess.run(x))"
      ],
      "metadata": {
        "colab": {
          "base_uri": "https://localhost:8080/"
        },
        "id": "mV8ybv2_xTyf",
        "outputId": "25cf0c65-dd08-42b3-96c1-dc588136c1ce"
      },
      "execution_count": 170,
      "outputs": [
        {
          "output_type": "stream",
          "name": "stdout",
          "text": [
            "INFO:tensorflow:Restoring parameters from ./equation-1000\n"
          ]
        }
      ]
    }
  ]
}